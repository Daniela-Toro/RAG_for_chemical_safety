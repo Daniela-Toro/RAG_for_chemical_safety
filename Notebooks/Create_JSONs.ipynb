{
 "cells": [
  {
   "cell_type": "markdown",
   "metadata": {
    "id": "hEdiBMTNOXVD"
   },
   "source": [
    "# Install dependencies"
   ]
  },
  {
   "cell_type": "code",
   "execution_count": null,
   "metadata": {
    "id": "c5jMYWOTN_Ft"
   },
   "outputs": [],
   "source": [
    "!pip install openai tiktoken\n",
    "!pip install python-docx pdfplumber pymupdf\n",
    "!pip install pandas openpyxl xlrd lxml\n",
    "!pip install -U langchain-community\n",
    "!pip install langchain_openai\n",
    "!pip install chromadb\n",
    "!pip install jedi\n",
    "!pip install -q llama-index\n",
    "!pip install -q llama-parse"
   ]
  },
  {
   "cell_type": "markdown",
   "metadata": {
    "id": "wamQ9fJVObNn"
   },
   "source": [
    "# Import library"
   ]
  },
  {
   "cell_type": "code",
   "execution_count": null,
   "metadata": {
    "id": "4yEdJPy1Oaxl"
   },
   "outputs": [],
   "source": [
    "# Imports necesary\n",
    "import os\n",
    "import json\n",
    "import re\n",
    "import shutil\n",
    "import pickle\n",
    "from io import StringIO\n",
    "from typing import Dict, List\n",
    "import pandas as pd\n",
    "import openpyxl\n",
    "from google.colab import drive\n",
    "import openai\n",
    "import tiktoken\n",
    "from langchain.chains import RetrievalQA\n",
    "from langchain.chat_models import ChatOpenAI\n",
    "from langchain.vectorstores import Chroma\n",
    "from langchain.embeddings import OpenAIEmbeddings\n",
    "from langchain_core.prompts import ChatPromptTemplate\n",
    "from langchain_core.documents import Document\n",
    "import nest_asyncio\n",
    "from llama_index.llms.openai import OpenAI\n",
    "from llama_index.core import VectorStoreIndex\n",
    "from llama_index.core.node_parser import MarkdownElementNodeParser\n",
    "from llama_parse import LlamaParse\n",
    "from difflib import get_close_matches\n",
    "from IPython.display import Image, Markdown"
   ]
  },
  {
   "cell_type": "markdown",
   "metadata": {
    "id": "OC975dMyOg0p"
   },
   "source": [
    "# Load items"
   ]
  },
  {
   "cell_type": "markdown",
   "metadata": {
    "id": "-Ve4LpZFOi_-"
   },
   "source": [
    "## Load rutes"
   ]
  },
  {
   "cell_type": "code",
   "execution_count": null,
   "metadata": {
    "id": "yQ1-9MNrOgHi"
   },
   "outputs": [],
   "source": [
    "# Mount Google Drive in Colab\n",
    "drive.mount('/content/drive')\n",
    "\n",
    "# Storage paths\n",
    "output_folder = \"/content/drive/MyDrive/TFM/Grupo_1_RAG_Chemical_Safety/Notebooks/output_md_openai/\"\n",
    "DB_Chroma = \"/content/drive/MyDrive/TFM/Grupo_1_RAG_Chemical_Safety/Notebooks/Chroma_DB/\"\n",
    "template_path = \"/content/drive/MyDrive/TFM/Grupo_1_RAG_Chemical_Safety/Notebooks/CO-028296-HS-2-COSHH template.xlsx\"\n",
    "json_output_path = \"/content/drive/MyDrive/TFM/Grupo_1_RAG_Chemical_Safety/Notebooks/output_JSON/\""
   ]
  },
  {
   "cell_type": "markdown",
   "metadata": {
    "id": "GQmCThGmOnek"
   },
   "source": [
    "# Load utilities"
   ]
  },
  {
   "cell_type": "code",
   "execution_count": null,
   "metadata": {
    "id": "L82_YZpBOpIy"
   },
   "outputs": [],
   "source": [
    "'''\n",
    "    Loads embeddings, initializes a persistent Chroma vector store, reads the Excel template and a Markdown doc,\n",
    "    and configures a GPT-4o-mini LLM—basic setup for a RAG-style retrieval + generation workflow.\n",
    "\n",
    "    Load an embedding model compatible with the GPT-4 family\n",
    "'''\n",
    "API_KEY = \"\"\n",
    "embeddings = OpenAIEmbeddings(\n",
    "    model=\"text-embedding-3-large\",\n",
    "    api_key= API_KEY\n",
    "    )\n",
    "\n",
    "# Load the Chroma vector database\n",
    "db = Chroma(persist_directory=DB_Chroma, embedding_function=embeddings)\n",
    "\n",
    "# Load the working Excel template (all sheets)\n",
    "template = pd.read_excel(template_path, sheet_name=None)\n",
    "\n",
    "# Load the .md document (CO-028674-DS-1-3-IN-1-All-Purpose-Cleaner.md)\n",
    "with open(output_folder + 'CO-028674-DS-1-3-IN-1-All-Purpose-Cleaner.md', 'r') as file:\n",
    "    document = file.read()\n",
    "\n",
    "# Load the LLM to be used\n",
    "llm = ChatOpenAI (\n",
    "    model=\"gpt-4o-mini\",\n",
    "    temperature=0,\n",
    "    max_tokens=None,\n",
    "    timeout=None,\n",
    "    max_retries=2,\n",
    "    api_key= API_KEY\n",
    "    )\n",
    "\n",
    "llm_gpt4o_mini = OpenAI(model=\"gpt-4o-mini\")"
   ]
  },
  {
   "cell_type": "markdown",
   "metadata": {
    "id": "xispwSl1OmGO"
   },
   "source": [
    "# Extract fields from Excel as JSON"
   ]
  },
  {
   "cell_type": "code",
   "execution_count": null,
   "metadata": {
    "id": "WfYFKI0lOuF1"
   },
   "outputs": [],
   "source": [
    "# Path to the Markdown file to be processed`\n",
    "ruta_table_2_Hazards = \"/content/drive/MyDrive/TFM/Grupo_1_RAG_Chemical_Safety/Notebooks/output_Excel_to_md/table_2.md\"\n",
    "ruta_table_3_Waste_disposal_measures = \"/content/drive/MyDrive/TFM/Grupo_1_RAG_Chemical_Safety/Notebooks/output_Excel_to_md/table_3.md\"\n",
    "ruta_table_4_Spill_management = \"/content/drive/MyDrive/TFM/Grupo_1_RAG_Chemical_Safety/Notebooks/output_Excel_to_md/table_4.md\"\n",
    "ruta_table_5_Fire_procedures = \"/content/drive/MyDrive/TFM/Grupo_1_RAG_Chemical_Safety/Notebooks/output_Excel_to_md/table_5.md\"\n",
    "ruta_table_6_First_aid_procedures = \"/content/drive/MyDrive/TFM/Grupo_1_RAG_Chemical_Safety/Notebooks/output_Excel_to_md/table_6.md\"\n",
    "ruta_table_7_Storage = \"/content/drive/MyDrive/TFM/Grupo_1_RAG_Chemical_Safety/Notebooks/output_Excel_to_md/table_7.md\""
   ]
  },
  {
   "cell_type": "code",
   "execution_count": null,
   "metadata": {
    "id": "G5gUw1M7O1O6"
   },
   "outputs": [],
   "source": [
    "# Read UTF-8 text files for all section tables (Hazards, Waste disposal, Spill management, Fire procedures,\n",
    "# First aid, Storage) from their file paths into memory as strings.\n",
    "\n",
    "with open(ruta_table_2_Hazards, \"r\", encoding=\"utf-8\") as f:\n",
    "    table_Hazards = f.read()\n",
    "\n",
    "with open(ruta_table_3_Waste_disposal_measures, \"r\", encoding=\"utf-8\") as f:\n",
    "    table_Waste_disposal_measures = f.read()\n",
    "\n",
    "with open(ruta_table_4_Spill_management, \"r\", encoding=\"utf-8\") as f:\n",
    "    table_Spill_management = f.read()\n",
    "\n",
    "with open(ruta_table_5_Fire_procedures, \"r\", encoding=\"utf-8\") as f:\n",
    "    table_Fire_procedures = f.read()\n",
    "\n",
    "with open(ruta_table_6_First_aid_procedures, \"r\", encoding=\"utf-8\") as f:\n",
    "    table_First_aid_procedures = f.read()\n",
    "\n",
    "with open(ruta_table_7_Storage, \"r\", encoding=\"utf-8\") as f:\n",
    "    table_Storage = f.read()"
   ]
  },
  {
   "cell_type": "markdown",
   "metadata": {
    "id": "GM94u--XO33f"
   },
   "source": [
    "# Convert Markdown to JSON"
   ]
  },
  {
   "cell_type": "code",
   "execution_count": null,
   "metadata": {
    "id": "r9UQ2AzFO7tL"
   },
   "outputs": [],
   "source": [
    "'''\n",
    "Instructs the AI to read the safety sheet (Markdown) and list every field the Excel should include,\n",
    "returning a plain JSON template with empty values, including the “Who might be harmed?” items.\n",
    "'''\n",
    "\n",
    "prompt_text_sheet2 = \"\"\"\n",
    "You have the following Markdown content, which comes from a converted Excel sheet. Your task is to identify all the fields that should be filled in the Excel.\n",
    "The Excel is intended to be auto-completed later and represents a Safety Data Sheet.\n",
    "\n",
    "Return a JSON whose keys correspond to those fields, all with empty values. Do NOT invent additional information.\n",
    "Keep in mind that within the same sheet there may be several table fragments, so review every cell that contains information.\n",
    "\n",
    "Make sure to go through all relevant cells and follow this EXACT structure:\n",
    "\n",
    "{{{{\n",
    "  \"Sheet_2\": {{{{\n",
    "    \"campo1\": {{\"content\": \"string\", \"position\": \"string\", \"response\": \"string\", \"to_excel\":\"string\"}},\n",
    "    \"campo2\": {{\"content\": \"string\", \"position\": \"string\", \"response\": \"string\", \"to_excel\":\"string\"}},\n",
    "    \"campo3\": {{\"content\": \"string\", \"position\": \"string\", \"response\": \"string\", \"to_excel\":\"string\"}},\n",
    "  }}}}\n",
    "}}}}\n",
    "\n",
    "For fields like the one containing \"Who might be harmed?\", there are 3 fixed cells with information: Operators, Bystanders, Maintenance Personnel. These fields must follow the structure below:\n",
    "\"who_might_be_harmed_operators\": {\n",
    "      \"content\": \"Operators\",\n",
    "      \"position\": \"\",\n",
    "      \"response\": \"\",\n",
    "      \"to_excel\": \"\"\n",
    "    },\n",
    "    \"who_might_be_harmed_bystanders\": {\n",
    "      \"content\": \"Bystanders\",\n",
    "      \"position\": \"\",\n",
    "      \"response\": \"\",\n",
    "      \"to_excel\": \"\"\n",
    "    },\n",
    "    \"who_might_be_harmed_maintenance_personnel\": {\n",
    "      \"content\": \"Maintenance Personnel\",\n",
    "      \"position\": \"\",\n",
    "      \"response\": \"\",\n",
    "      \"to_excel\": \"\"\n",
    "    }\n",
    "\n",
    "Where:\n",
    "- Keys must be derived only from keywords, with no punctuation, no numbers, and words separated by underscores.\n",
    "- `content` must contain the full text of the source cell, such as titles, questions, or headers.\n",
    "- `response` must always be empty.\n",
    "- `position` must always be empty.\n",
    "- `to_excel` must always be empty.\n",
    "\n",
    "Return only the raw JSON, with no additional formatting such as json or explanations.\n",
    "\n",
    "--- MARKDOWN ---\n",
    "{markdown}\n",
    "--- FIN ---\n",
    "\"\"\""
   ]
  },
  {
   "cell_type": "code",
   "execution_count": null,
   "metadata": {
    "id": "TCUj8XpPO9t2"
   },
   "outputs": [],
   "source": [
    "def convert_excel_to_json(prompt_text, markdown_text):\n",
    "    '''\n",
    "    Runs an LLM prompt on the given Markdown to extract a JSON template for the Excel sheet,\n",
    "    prints the raw LLM response for debugging, parses it into clean JSON, and returns the result,\n",
    "    raises an error if the response isn’t valid JSON.\n",
    "    '''\n",
    "\n",
    "    # Create the LangChain prompt using the received text\n",
    "    prompt_extract_keys = ChatPromptTemplate.from_messages(\n",
    "        [\n",
    "            (\n",
    "                \"system\",\n",
    "                \"You specialize in extracting structured data from Markdown to Excel spreadsheets.\",\n",
    "            ),\n",
    "            (\"human\", prompt_text),\n",
    "        ]\n",
    "    )\n",
    "\n",
    "    chain_extract_keys = prompt_extract_keys | llm\n",
    "\n",
    "    # Execute markdown query\n",
    "    response = chain_extract_keys.invoke({\"markdown\": markdown_text})\n",
    "\n",
    "    # Display content in case of errors or for debugging\n",
    "    print(response.content)\n",
    "\n",
    "    # Convert to clean JSON\n",
    "    try:\n",
    "        json_sheet = json.loads(response.content)\n",
    "    except json.JSONDecodeError as e:\n",
    "        raise ValueError(f\"Error al parsear JSON: {e}\\nContenido:\\n{response.content}\")\n",
    "\n",
    "    # Return the final dictionary\n",
    "    return json_sheet"
   ]
  },
  {
   "cell_type": "code",
   "execution_count": null,
   "metadata": {
    "id": "3mdN-0EkO_xY"
   },
   "outputs": [],
   "source": [
    "# Generate the JSON template for the Hazards section from the Markdown table via the LLM\n",
    "json_table_Hazards = convert_excel_to_json(\n",
    "    prompt_text=prompt_text_sheet2,\n",
    "    markdown_text=table_Hazards\n",
    ")\n",
    "print(json.dumps(json_table_Hazards, indent=2, ensure_ascii=False))"
   ]
  },
  {
   "cell_type": "code",
   "execution_count": null,
   "metadata": {
    "id": "WoLN1Cm8PBM_"
   },
   "outputs": [],
   "source": [
    "# Generate the JSON template for the Waste disposal measures section from the Markdown table via the LLM\n",
    "json_table_Waste_disposal_measures = convert_excel_to_json(\n",
    "    prompt_text=prompt_text_sheet2,\n",
    "    markdown_text=table_Waste_disposal_measures\n",
    ")\n",
    "print(json.dumps(json_table_Waste_disposal_measures, indent=2, ensure_ascii=False))"
   ]
  },
  {
   "cell_type": "code",
   "execution_count": null,
   "metadata": {
    "id": "7dhomZUyPDCk"
   },
   "outputs": [],
   "source": [
    "# Generate the JSON template for the Spill management section from the Markdown table via the LLM\n",
    "json_table_Spill_management = convert_excel_to_json(\n",
    "    prompt_text=prompt_text_sheet2,\n",
    "    markdown_text=table_Spill_management\n",
    ")\n",
    "print(json.dumps(json_table_Spill_management, indent=2, ensure_ascii=False))"
   ]
  },
  {
   "cell_type": "code",
   "execution_count": null,
   "metadata": {
    "id": "Ad0Inq1LPDmh"
   },
   "outputs": [],
   "source": [
    "# Generate the JSON template for the Fire procedures section from the Markdown table via the LLM\n",
    "json_table_Fire_procedures = convert_excel_to_json(\n",
    "    prompt_text=prompt_text_sheet2,\n",
    "    markdown_text=table_Fire_procedures\n",
    ")\n",
    "print(json.dumps(json_table_Fire_procedures, indent=2, ensure_ascii=False))"
   ]
  },
  {
   "cell_type": "code",
   "execution_count": null,
   "metadata": {
    "id": "T7CW1PC8PFes"
   },
   "outputs": [],
   "source": [
    "# Generate the JSON template for the Aid procedures section from the Markdown table via the LLM\n",
    "json_table_First_aid_procedures = convert_excel_to_json(\n",
    "    prompt_text=prompt_text_sheet2,\n",
    "    markdown_text=table_First_aid_procedures\n",
    ")\n",
    "print(json.dumps(json_table_First_aid_procedures, indent=2, ensure_ascii=False))"
   ]
  },
  {
   "cell_type": "code",
   "execution_count": null,
   "metadata": {
    "id": "N6ICWH80PG5E"
   },
   "outputs": [],
   "source": [
    "# Generate the JSON template for the Storage section from the Markdown table via the LLM\n",
    "json_table_Storage = convert_excel_to_json(\n",
    "    prompt_text=prompt_text_sheet2,\n",
    "    markdown_text=table_Storage\n",
    ")\n",
    "print(json.dumps(json_table_Storage, indent=2, ensure_ascii=False))"
   ]
  },
  {
   "cell_type": "markdown",
   "metadata": {
    "id": "Z0pXEq1GPMHo"
   },
   "source": [
    "# Map to excel"
   ]
  },
  {
   "cell_type": "code",
   "execution_count": null,
   "metadata": {
    "id": "hbwcZjW5PPqV"
   },
   "outputs": [],
   "source": [
    "# define constants for each field’s cell reference\n",
    "\n",
    "map_table_Hazards = {\n",
    "    \"hazards\": \"\",\n",
    "    \"chemical_name\": \"C13\",\n",
    "    \"hazard_group\": \"D13\",\n",
    "    \"sds_reference\": \"E13\",\n",
    "    \"physical_form_and_quantity\":\"F13\",\n",
    "    \"hazard_statements\":\"G13\",\n",
    "    \"explosive\":\"H13\",\n",
    "    \"flammable\": \"I13\",\n",
    "    \"oxidising\": \"J13\",\n",
    "    \"gas_under_pressure\": \"K13\",\n",
    "    \"acute_toxicity\": \"L13\",\n",
    "    \"corrosive\": \"M13\",\n",
    "    \"health_hazard\": \"N13\",\n",
    "    \"serious_health_hazard\":\"O13\",\n",
    "    \"hazardous_to_the_environment\":\"P13\",\n",
    "    \"potential_routes_of_exposure\":\"Q13\",\n",
    "    \"workplace_exposure_limits\":\"R13\",\n",
    "    \"arising_harm\": \"S13\",\n",
    "    \"who_might_be_harmed_operators\": \"\",\n",
    "    \"who_might_be_harmed_bystanders\": \"\",\n",
    "    \"who_might_be_harmed_maintenance_personnel\": \"\",\n",
    "    \"severity\": [\"U13\",\"U14\",\"U15\"],\n",
    "    \"likelihood_before_control_measures\":[\"V13\",\"V14\",\"V15\"],\n",
    "    \"risk_before_control_measures\": \"\", # Campos autocalculados, no mapeados de momento\n",
    "    \"wear_full_face_visor\": \"X13\",\n",
    "    \"box_goggles_must_be_worn\": \"Y13\",\n",
    "    \"protective_gloves_must_be_worn\": \"Z13\",\n",
    "    \"laboratory_coats_must_be_worn\": \"AA13\",\n",
    "    \"use_local_exhaust_ventillation\": \"AB13\",\n",
    "    \"no_open_flames\": \"AC13\",\n",
    "    \"other_control_measures\": \"AD13\",\n",
    "    \"actions_control_measures_to_be_implemented\": \"AE13\",\n",
    "    \"assign_to\": \"AF13\",\n",
    "    \"completion_date\": \"AG13\",\n",
    "    \"likelihood_after_control_measures\": [\"AH13\",\"AH14\",\"AH15\"],\n",
    "    \"risk_after_control_measures\": \"\" # Campos autocalculados, no mapeados de momento\n",
    "}"
   ]
  },
  {
   "cell_type": "code",
   "execution_count": null,
   "metadata": {
    "id": "PTsQqotLPRV8"
   },
   "outputs": [],
   "source": [
    "map_table_Waste_disposal_measures = {\n",
    "    \"waste_disposal_measures\": \"\",\n",
    "    \"chemical_name\": \"C24\",\n",
    "    \"hazard_group\": \"D24\",\n",
    "    \"handling_of_the_product_if_it_becomes_waste\": \"F24\",\n",
    "    \"do_not_dispose_of_via_drain\": \"\"\n",
    "  }"
   ]
  },
  {
   "cell_type": "code",
   "execution_count": null,
   "metadata": {
    "id": "vXPcjUfFPSwk"
   },
   "outputs": [],
   "source": [
    "map_table_Spill_management = {\n",
    "   \"spill_management\": \"\",\n",
    "    \"chemical_name\": \"Q24\",\n",
    "    \"details\": \"R24\"\n",
    "}"
   ]
  },
  {
   "cell_type": "code",
   "execution_count": null,
   "metadata": {
    "id": "OPBf75vRPT1F"
   },
   "outputs": [],
   "source": [
    "map_table_Fire_procedures = {\n",
    "    \"fire_procedures\": \"\",\n",
    "    \"chemical_name\": \"Q30\",\n",
    "    \"details\": \"R30\"\n",
    "}"
   ]
  },
  {
   "cell_type": "code",
   "execution_count": null,
   "metadata": {
    "id": "8x9q9pZOPVrN"
   },
   "outputs": [],
   "source": [
    "map_table_First_aid_procedures = {\n",
    "    \"first_aid_procedures\": \"\",\n",
    "    \"chemical_name\": \"C38\",\n",
    "    \"eyes\": \"D38\",\n",
    "    \"skin\": \"H38\",\n",
    "    \"if_ingested\": \"L38\",\n",
    "    \"if_inhaled\": \"Q38\"\n",
    "}"
   ]
  },
  {
   "cell_type": "code",
   "execution_count": null,
   "metadata": {
    "id": "kIVVvepEPW2a"
   },
   "outputs": [],
   "source": [
    "map_table_Storage = {\n",
    "    \"chemical_name\": \"C30\",\n",
    "    \"hazard_group\": \"D30\",\n",
    "    \"hazard_label_and_store_safely_on_shelf\": \"E30\",\n",
    "    \"flammables_cupboard\": \"F30\",\n",
    "    \"corrosives_cupboard\": \"G30\",\n",
    "    \"poisons_cupboard\": \"H30\",\n",
    "    \"ventilated_storage\": \"I30\",\n",
    "    \"gas_cylinder\": \"J30\",\n",
    "    \"cold_storage\": \"K30\",\n",
    "    \"dessicated_storage\": \"L30\",\n",
    "    \"special_storage_describe\": \"M30\"\n",
    "}"
   ]
  },
  {
   "cell_type": "code",
   "execution_count": null,
   "metadata": {
    "id": "i_biRDLPPZg5"
   },
   "outputs": [],
   "source": [
    "def set_positions_in_json(json_data, mapping, json_output_path, output_filename, sheet_name=\"Sheet_2\"):\n",
    "    '''\n",
    "        Fills each field’s \"position\" in the JSON from the given mapping (list or string),\n",
    "        warns if a key is missing, pretty-prints the final JSON, saves it to disk,\n",
    "        and returns the updated JSON object.\n",
    "    '''\n",
    "    for key, position in mapping.items():\n",
    "        if key in json_data.get(sheet_name, {}):\n",
    "            if isinstance(position, list):\n",
    "                json_data[sheet_name][key][\"position\"] = position\n",
    "            else:\n",
    "                json_data[sheet_name][key][\"position\"] = str(position)\n",
    "        else:\n",
    "            print(f\"⚠️ La clave '{key}' no se encontró en el JSON.\")\n",
    "\n",
    "    # Display the final JSON only once\n",
    "    print(json.dumps(json_data, indent=2, ensure_ascii=False))\n",
    "\n",
    "    # Save the JSON to the specified path\n",
    "    os.makedirs(json_output_path, exist_ok=True)\n",
    "    output_file = os.path.join(json_output_path, output_filename)\n",
    "    with open(output_file, \"w\", encoding=\"utf-8\") as f:\n",
    "        json.dump(json_data, f, indent=2, ensure_ascii=False)\n",
    "\n",
    "    print(f\"✅ JSON guardado en: {output_file}\")\n",
    "    return json_data"
   ]
  },
  {
   "cell_type": "code",
   "execution_count": null,
   "metadata": {
    "id": "x0ohCd6UPakK"
   },
   "outputs": [],
   "source": [
    "set_positions_in_json(\n",
    "    json_table_Hazards,\n",
    "    map_table_Hazards,\n",
    "    json_output_path,\n",
    "    output_filename=\"json_table_Hazards.json\"\n",
    ")"
   ]
  },
  {
   "cell_type": "code",
   "execution_count": null,
   "metadata": {
    "id": "sMpnFaKAPbJf"
   },
   "outputs": [],
   "source": [
    "set_positions_in_json(\n",
    "    json_table_Waste_disposal_measures,\n",
    "    map_table_Waste_disposal_measures,\n",
    "    json_output_path,\n",
    "    output_filename=\"json_table_Waste_disposal_measures.json\"\n",
    ")"
   ]
  },
  {
   "cell_type": "code",
   "execution_count": null,
   "metadata": {
    "id": "wR85MtwfPcTf"
   },
   "outputs": [],
   "source": [
    "set_positions_in_json(\n",
    "    json_table_Spill_management,\n",
    "    map_table_Spill_management,\n",
    "    json_output_path,\n",
    "    output_filename=\"json_table_Spill_management.json\"\n",
    ")"
   ]
  },
  {
   "cell_type": "code",
   "execution_count": null,
   "metadata": {
    "id": "TtMwSLH1PeEz"
   },
   "outputs": [],
   "source": [
    "set_positions_in_json(\n",
    "    json_table_Fire_procedures,\n",
    "    map_table_Fire_procedures,\n",
    "    json_output_path,\n",
    "    output_filename=\"json_table_Fire_procedures.json\"\n",
    ")"
   ]
  },
  {
   "cell_type": "code",
   "execution_count": null,
   "metadata": {
    "id": "5BHDKosrPfC5"
   },
   "outputs": [],
   "source": [
    "set_positions_in_json(\n",
    "    json_table_First_aid_procedures,\n",
    "    map_table_First_aid_procedures,\n",
    "    json_output_path,\n",
    "    output_filename=\"json_table_First_aid_procedures.json\"\n",
    ")"
   ]
  },
  {
   "cell_type": "code",
   "execution_count": null,
   "metadata": {
    "id": "NnihvBoxPfs_"
   },
   "outputs": [],
   "source": [
    "set_positions_in_json(\n",
    "    json_table_Storage,\n",
    "    map_table_Storage,\n",
    "    json_output_path,\n",
    "    output_filename=\"json_table_Storage.json\"\n",
    ")"
   ]
  }
 ],
 "metadata": {
  "colab": {
   "collapsed_sections": [
    "hEdiBMTNOXVD",
    "wamQ9fJVObNn"
   ],
   "provenance": []
  },
  "kernelspec": {
   "display_name": "Python 3",
   "name": "python3"
  },
  "language_info": {
   "name": "python"
  }
 },
 "nbformat": 4,
 "nbformat_minor": 0
}
